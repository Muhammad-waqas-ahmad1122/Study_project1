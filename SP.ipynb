{
 "cells": [
  {
   "cell_type": "code",
   "execution_count": 50,
   "metadata": {},
   "outputs": [],
   "source": [
    "#-- Importing modules\n",
    "import flopy\n",
    "import numpy as np\n",
    "import pandas as pd\n",
    "import flopy.modflow as fpm"
   ]
  },
  {
   "cell_type": "code",
   "execution_count": 51,
   "metadata": {},
   "outputs": [
    {
     "name": "stdout",
     "output_type": "stream",
     "text": [
      "[['x', 'y'], [' 1', '1537.3919', '6482.2855'], [' 2', '1619.4925', '5350.2436'], [' 3', '1189.2087', '4426.7064'], [' 4', '1610.6249', '3517.6656'], [' 5', '95.2641', '2598.2555'], [' 6', '1800.4278', '2359.5935'], [' 7', '78.0893', '1727.8779'], ['8', '1708.18', '1586.7347'], [' 9', '115.4608', '581.3898'], [' 10', '1348.1983', '475.2261'], [' 11', '1909.8702', '-185.123'], [' 12', '1627.0996', '6571.9932'], [' 13', '1709.2002', '5439.9513'], [' 14', '1437.9059', '564.9337'], [' 15', '1537.3919', '6571.9932'], []]\n"
     ]
    }
   ],
   "source": [
    "#--importing data file\n",
    "import csv\n",
    "\n",
    "with open('coord.txt', newline='') as csvfile:\n",
    "    data = list(csv.reader(csvfile))\n",
    "\n",
    "print(data)"
   ]
  },
  {
   "cell_type": "code",
   "execution_count": 59,
   "metadata": {},
   "outputs": [],
   "source": [
    "#-- Defining boundries for DIS package\n",
    "Lx = 5000\n",
    "Ly = 10000\n",
    "ztop = 0\n",
    "zbot = -30\n",
    "nlay = 2\n",
    "nrow = 100\n",
    "ncol = 100\n",
    "delr = Lx / ncol\n",
    "delc = Ly / nrow\n",
    "delv = (ztop - zbot) / nlay\n",
    "perlen = 20"
   ]
  },
  {
   "cell_type": "code",
   "execution_count": 60,
   "metadata": {},
   "outputs": [],
   "source": [
    "#--Generating model name\n",
    "model_name = 'Draft_SP'\n",
    "mf = flopy.modflow.Modflow(model_name, exe_name='mf2005')"
   ]
  },
  {
   "cell_type": "code",
   "execution_count": 61,
   "metadata": {},
   "outputs": [],
   "source": [
    "disc = flopy.modflow.ModflowDis(mf, nlay, nrow, ncol, delr=delr, delc=delc,\n",
    "                               top=ztop, botm = zbot)"
   ]
  },
  {
   "cell_type": "code",
   "execution_count": 62,
   "metadata": {},
   "outputs": [],
   "source": [
    "#--Output Control\n",
    "spd = {(0, 0): ['print head', 'print budget', 'save head', 'save budget']}\n",
    "oc = flopy.modflow.ModflowOc(mf, stress_period_data=spd, compact=True)"
   ]
  },
  {
   "cell_type": "code",
   "execution_count": 63,
   "metadata": {},
   "outputs": [],
   "source": [
    "#--BCF File\n",
    "laycon = 0 #confined\n",
    "tran = 1.0 \n",
    "bcf = flopy.modflow.mfbcf.ModflowBcf(mf, laycon = 0, tran = 1)"
   ]
  },
  {
   "cell_type": "code",
   "execution_count": 64,
   "metadata": {},
   "outputs": [],
   "source": [
    "#--Defining Head Boundary Conditions\n",
    "ibound = np.ones((nlay, nrow, ncol), dtype=np.int32)\n",
    "ibound[:, :, 0] = -1\n",
    "ibound[:, :, -1] = -1\n",
    "strt = np.ones((nlay, nrow, ncol), dtype=np.float32)\n",
    "strt[:, :, 0] = 10.\n",
    "strt[:, :, -1] = 10.\n",
    "bas = flopy.modflow.ModflowBas(mf, ibound=ibound, strt=strt)"
   ]
  },
  {
   "cell_type": "code",
   "execution_count": 65,
   "metadata": {},
   "outputs": [],
   "source": [
    "#-- PCG File\n",
    "pcg = flopy.modflow.mfpcg.ModflowPcg(mf, mxiter = 20, iter1 = 30)"
   ]
  },
  {
   "cell_type": "code",
   "execution_count": 66,
   "metadata": {},
   "outputs": [
    {
     "data": {
      "text/plain": [
       "\n",
       "    MODFLOW Well Package Class.\n",
       "\n",
       "    Parameters\n",
       "    ----------\n",
       "    model : model object\n",
       "        The model object (of type :class:`flopy.modflow.mf.Modflow`) to which\n",
       "        this package will be added.\n",
       "    ipakcb : int\n",
       "        A flag that is used to determine if cell-by-cell budget data should be\n",
       "        saved. If ipakcb is non-zero cell-by-cell budget data will be saved.\n",
       "        (default is 0).\n",
       "    stress_period_data : list of boundaries, or recarray of boundaries, or\n",
       "        dictionary of boundaries\n",
       "        Each well is defined through definition of\n",
       "        layer (int), row (int), column (int), flux (float).\n",
       "        The simplest form is a dictionary with a lists of boundaries for each\n",
       "        stress period, where each list of boundaries itself is a list of\n",
       "        boundaries. Indices of the dictionary are the numbers of the stress\n",
       "        period. This gives the form of:\n",
       "\n",
       "            stress_period_data =\n",
       "            {0: [\n",
       "                [lay, row, col, flux],\n",
       "                [lay, row, col, flux],\n",
       "                [lay, row, col, flux]\n",
       "                ],\n",
       "            1:  [\n",
       "                [lay, row, col, flux],\n",
       "                [lay, row, col, flux],\n",
       "                [lay, row, col, flux]\n",
       "                ], ...\n",
       "            kper:\n",
       "                [\n",
       "                [lay, row, col, flux],\n",
       "                [lay, row, col, flux],\n",
       "                [lay, row, col, flux]\n",
       "                ]\n",
       "            }\n",
       "\n",
       "        Note that if the number of lists is smaller than the number of stress\n",
       "        periods, then the last list of wells will apply until the end of the\n",
       "        simulation. Full details of all options to specify stress_period_data\n",
       "        can be found in the flopy3 boundaries Notebook in the basic\n",
       "        subdirectory of the examples directory\n",
       "    dtype : custom datatype of stress_period_data.\n",
       "        If None the default well datatype will be applied (default is None).\n",
       "    extension : string\n",
       "        Filename extension (default is 'wel')\n",
       "    options : list of strings\n",
       "        Package options (default is None).\n",
       "    unitnumber : int\n",
       "        File unit number (default is None).\n",
       "    filenames : str or list of str\n",
       "        Filenames to use for the package and the output files. If\n",
       "        filenames=None the package name will be created using the model name\n",
       "        and package extension and the cbc output name will be created using\n",
       "        the model name and .cbc extension (for example, modflowtest.cbc),\n",
       "        if ipakcbc is a number greater than zero. If a single string is passed\n",
       "        the package will be set to the string and cbc output names will be\n",
       "        created using the model name and .cbc extension, if ipakcbc is a\n",
       "        number greater than zero. To define the names for all package files\n",
       "        (input and output) the length of the list of strings should be 2.\n",
       "        Default is None.\n",
       "\n",
       "    Attributes\n",
       "    ----------\n",
       "    mxactw : int\n",
       "        Maximum number of wells for a stress period.  This is calculated\n",
       "        automatically by FloPy based on the information in\n",
       "        stress_period_data.\n",
       "\n",
       "    Methods\n",
       "    -------\n",
       "\n",
       "    See Also\n",
       "    --------\n",
       "\n",
       "    Notes\n",
       "    -----\n",
       "    Parameters are not supported in FloPy.\n",
       "\n",
       "    Examples\n",
       "    --------\n",
       "\n",
       "    >>> import flopy\n",
       "    >>> m = flopy.modflow.Modflow()\n",
       "    >>> lrcq = {0:[[2, 3, 4, -100.]], 1:[[2, 3, 4, -100.]]}\n",
       "    >>> wel = flopy.modflow.ModflowWel(m, stress_period_data=lrcq)\n",
       "\n",
       "     _name = WEL\n",
       " _parent = MODFLOW 2 layer(s) 100 row(s) 100 column(s) 1 stress period(s) ('flopy.modflow.mf.Modflow)\n",
       " acceptable_dtypes (list, items = 3)\n",
       " allowDuplicates = False ('bool)\n",
       " dtype = [('k', '<i4'), ('i', '<i4'), ('j', '<i4'), ('flux', '<f4')] ('numpy.dtype)\n",
       " extra = \n",
       " file_name = Draft_SP.wel\n",
       " fn_path = .\\Draft_SP.wel ('str)\n",
       " ipakcb = 0 ('int)\n",
       " iunitramp = None ('NoneType)\n",
       " np = 0 ('int)\n",
       " options (list, items = 0)\n",
       " phiramp = None ('NoneType)\n",
       " specify = False ('bool)\n",
       " stress_period_data = <flopy.utils.util_list.MfList object at 0x000002787FBAF888> ('flopy.utils.util_list.MfList)\n",
       " unit_number = 20"
      ]
     },
     "execution_count": 66,
     "metadata": {},
     "output_type": "execute_result"
    }
   ],
   "source": [
    "#-- Defining Recharge and Well Package\n",
    "fpm.ModflowRch(mf, rech=0.001)\n",
    "Q = { 0: [[0, 1537.3919, 6482.2855, 0.5], [0, 1619.4925, 5350.2436, 0.5], [0, 1189.2087, 4426.7064, 0.5], [0, 1610.6249, 3517.6656, 0.5],\n",
    "         [0, 95.2641, 2598.2555, 0.5],[0, 1800.4278, 2359.5935, 0.5], [0, 78.0893, 1727.8779, 0.5], [0, 1708.18, 1586.7347, 0.5], [0, 115.4608, 581.3898, 0.5],\n",
    "         [0, 1348.1983, 475.2261, 0.5], [0, 1909.8702, -185.123, 0.5], [0, 1627.0996, 6571.9932, 0.5], [0, 1709.2002, 5439.9513, 0.5],\n",
    "         [0, 1437.9059, 564.9337, 0.5], [0, 1537.3919, 6571.9932, 0.5]]} #-- [layer, row, column, injection rate]\n",
    "fpm.ModflowWel(mf, stress_period_data = Q)"
   ]
  },
  {
   "cell_type": "code",
   "execution_count": 67,
   "metadata": {},
   "outputs": [],
   "source": [
    "#-- Linkag with mt3d\n",
    "lmt = flopy.modflow.ModflowLmt(mf, output_file_name = 'mt3d_link.ftl')"
   ]
  },
  {
   "cell_type": "code",
   "execution_count": 68,
   "metadata": {},
   "outputs": [
    {
     "name": "stdout",
     "output_type": "stream",
     "text": [
      "FloPy is using the following  executable to run the model: C:\\WRDAPP\\mf2005.1\\bin\\mf2005.EXE\n",
      "\n",
      "                                  MODFLOW-2005     \n",
      "    U.S. GEOLOGICAL SURVEY MODULAR FINITE-DIFFERENCE GROUND-WATER FLOW MODEL\n",
      "                             Version 1.12.00 2/3/2017                        \n",
      "\n",
      " Using NAME file: Draft_SP.nam \n",
      " Run start date and time (yyyy/mm/dd hh:mm:ss): 2020/08/18 19:33:21\n",
      "\n"
     ]
    },
    {
     "data": {
      "text/plain": [
       "(False, [])"
      ]
     },
     "execution_count": 68,
     "metadata": {},
     "output_type": "execute_result"
    }
   ],
   "source": [
    "#--Writing Input Files\n",
    "mf.write_input()\n",
    "#--And to run the model\n",
    "mf.run_model()"
   ]
  },
  {
   "cell_type": "code",
   "execution_count": null,
   "metadata": {},
   "outputs": [],
   "source": []
  },
  {
   "cell_type": "code",
   "execution_count": null,
   "metadata": {},
   "outputs": [],
   "source": []
  }
 ],
 "metadata": {
  "kernelspec": {
   "display_name": "Python 3",
   "language": "python",
   "name": "python3"
  },
  "language_info": {
   "codemirror_mode": {
    "name": "ipython",
    "version": 3
   },
   "file_extension": ".py",
   "mimetype": "text/x-python",
   "name": "python",
   "nbconvert_exporter": "python",
   "pygments_lexer": "ipython3",
   "version": "3.7.6"
  }
 },
 "nbformat": 4,
 "nbformat_minor": 4
}
